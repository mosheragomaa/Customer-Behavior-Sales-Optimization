{
 "cells": [
  {
   "cell_type": "code",
   "execution_count": 4,
   "id": "ec0c6f1a",
   "metadata": {
    "_cell_guid": "b1076dfc-b9ad-4769-8c92-a6c4dae69d19",
    "_kg_hide-input": true,
    "_uuid": "8f2839f25d086af736a60e9eeb907d3b93b6e0e5",
    "execution": {
     "iopub.execute_input": "2023-01-28T17:18:58.654110Z",
     "iopub.status.busy": "2023-01-28T17:18:58.653664Z",
     "iopub.status.idle": "2023-01-28T17:18:58.673308Z",
     "shell.execute_reply": "2023-01-28T17:18:58.672262Z"
    },
    "papermill": {
     "duration": 0.039631,
     "end_time": "2023-01-28T17:18:58.676030",
     "exception": false,
     "start_time": "2023-01-28T17:18:58.636399",
     "status": "completed"
    },
    "tags": []
   },
   "outputs": [],
   "source": [
    "#Data analysis and manipulation tools:\n",
    "import pandas as pd\n",
    "import numpy as np\n",
    "\n",
    "#Visualization tools:\n",
    "import matplotlib.pyplot as plt\n",
    "import seaborn as sns\n",
    "\n",
    "#PCA and machine learning tools:\n",
    "import sklearn\n",
    "from sklearn.preprocessing import StandardScaler\n",
    "from sklearn.decomposition import PCA\n",
    "\n",
    "#Python:\n",
    "import warnings\n",
    "warnings.simplefilter('ignore')"
   ]
  },
  {
   "cell_type": "code",
   "execution_count": 9,
   "id": "8c0e9979",
   "metadata": {
    "execution": {
     "iopub.execute_input": "2023-01-28T17:19:00.495017Z",
     "iopub.status.busy": "2023-01-28T17:19:00.494351Z",
     "iopub.status.idle": "2023-01-28T17:19:04.526433Z",
     "shell.execute_reply": "2023-01-28T17:19:04.525148Z"
    },
    "papermill": {
     "duration": 4.050017,
     "end_time": "2023-01-28T17:19:04.529012",
     "exception": false,
     "start_time": "2023-01-28T17:19:00.478995",
     "status": "completed"
    },
    "scrolled": true,
    "tags": []
   },
   "outputs": [
    {
     "data": {
      "text/html": [
       "<div>\n",
       "<style scoped>\n",
       "    .dataframe tbody tr th:only-of-type {\n",
       "        vertical-align: middle;\n",
       "    }\n",
       "\n",
       "    .dataframe tbody tr th {\n",
       "        vertical-align: top;\n",
       "    }\n",
       "\n",
       "    .dataframe thead th {\n",
       "        text-align: right;\n",
       "    }\n",
       "</style>\n",
       "<table border=\"1\" class=\"dataframe\">\n",
       "  <thead>\n",
       "    <tr style=\"text-align: right;\">\n",
       "      <th></th>\n",
       "      <th>order_id</th>\n",
       "      <th>user_id</th>\n",
       "      <th>order_number</th>\n",
       "      <th>order_dow</th>\n",
       "      <th>order_hour_of_day</th>\n",
       "      <th>days_since_prior_order</th>\n",
       "      <th>product_id</th>\n",
       "      <th>add_to_cart_order</th>\n",
       "      <th>reordered</th>\n",
       "      <th>department_id</th>\n",
       "      <th>department</th>\n",
       "      <th>product_name</th>\n",
       "    </tr>\n",
       "  </thead>\n",
       "  <tbody>\n",
       "    <tr>\n",
       "      <th>0</th>\n",
       "      <td>2425083</td>\n",
       "      <td>49125</td>\n",
       "      <td>1</td>\n",
       "      <td>2</td>\n",
       "      <td>18</td>\n",
       "      <td>NaN</td>\n",
       "      <td>17</td>\n",
       "      <td>1</td>\n",
       "      <td>0</td>\n",
       "      <td>13</td>\n",
       "      <td>pantry</td>\n",
       "      <td>baking ingredients</td>\n",
       "    </tr>\n",
       "    <tr>\n",
       "      <th>1</th>\n",
       "      <td>2425083</td>\n",
       "      <td>49125</td>\n",
       "      <td>1</td>\n",
       "      <td>2</td>\n",
       "      <td>18</td>\n",
       "      <td>NaN</td>\n",
       "      <td>91</td>\n",
       "      <td>2</td>\n",
       "      <td>0</td>\n",
       "      <td>16</td>\n",
       "      <td>dairy eggs</td>\n",
       "      <td>soy lactosefree</td>\n",
       "    </tr>\n",
       "    <tr>\n",
       "      <th>2</th>\n",
       "      <td>2425083</td>\n",
       "      <td>49125</td>\n",
       "      <td>1</td>\n",
       "      <td>2</td>\n",
       "      <td>18</td>\n",
       "      <td>NaN</td>\n",
       "      <td>36</td>\n",
       "      <td>3</td>\n",
       "      <td>0</td>\n",
       "      <td>16</td>\n",
       "      <td>dairy eggs</td>\n",
       "      <td>butter</td>\n",
       "    </tr>\n",
       "    <tr>\n",
       "      <th>3</th>\n",
       "      <td>2425083</td>\n",
       "      <td>49125</td>\n",
       "      <td>1</td>\n",
       "      <td>2</td>\n",
       "      <td>18</td>\n",
       "      <td>NaN</td>\n",
       "      <td>83</td>\n",
       "      <td>4</td>\n",
       "      <td>0</td>\n",
       "      <td>4</td>\n",
       "      <td>produce</td>\n",
       "      <td>fresh vegetables</td>\n",
       "    </tr>\n",
       "    <tr>\n",
       "      <th>4</th>\n",
       "      <td>2425083</td>\n",
       "      <td>49125</td>\n",
       "      <td>1</td>\n",
       "      <td>2</td>\n",
       "      <td>18</td>\n",
       "      <td>NaN</td>\n",
       "      <td>83</td>\n",
       "      <td>5</td>\n",
       "      <td>0</td>\n",
       "      <td>4</td>\n",
       "      <td>produce</td>\n",
       "      <td>fresh vegetables</td>\n",
       "    </tr>\n",
       "  </tbody>\n",
       "</table>\n",
       "</div>"
      ],
      "text/plain": [
       "   order_id  user_id  order_number  order_dow  order_hour_of_day  \\\n",
       "0   2425083    49125             1          2                 18   \n",
       "1   2425083    49125             1          2                 18   \n",
       "2   2425083    49125             1          2                 18   \n",
       "3   2425083    49125             1          2                 18   \n",
       "4   2425083    49125             1          2                 18   \n",
       "\n",
       "   days_since_prior_order  product_id  add_to_cart_order  reordered  \\\n",
       "0                     NaN          17                  1          0   \n",
       "1                     NaN          91                  2          0   \n",
       "2                     NaN          36                  3          0   \n",
       "3                     NaN          83                  4          0   \n",
       "4                     NaN          83                  5          0   \n",
       "\n",
       "   department_id  department        product_name  \n",
       "0             13      pantry  baking ingredients  \n",
       "1             16  dairy eggs     soy lactosefree  \n",
       "2             16  dairy eggs              butter  \n",
       "3              4     produce    fresh vegetables  \n",
       "4              4     produce    fresh vegetables  "
      ]
     },
     "execution_count": 9,
     "metadata": {},
     "output_type": "execute_result"
    }
   ],
   "source": [
    "#Loadng the data\n",
    "\n",
    "df = pd.read_csv('ECommerce_consumer behaviour.csv')\n",
    "df.head()"
   ]
  },
  {
   "cell_type": "code",
   "execution_count": 10,
   "id": "60345f5a",
   "metadata": {
    "execution": {
     "iopub.execute_input": "2023-01-28T17:19:04.559767Z",
     "iopub.status.busy": "2023-01-28T17:19:04.559292Z",
     "iopub.status.idle": "2023-01-28T17:19:04.583183Z",
     "shell.execute_reply": "2023-01-28T17:19:04.581628Z"
    },
    "papermill": {
     "duration": 0.042907,
     "end_time": "2023-01-28T17:19:04.586172",
     "exception": false,
     "start_time": "2023-01-28T17:19:04.543265",
     "status": "completed"
    },
    "scrolled": true,
    "tags": []
   },
   "outputs": [
    {
     "name": "stdout",
     "output_type": "stream",
     "text": [
      "<class 'pandas.core.frame.DataFrame'>\n",
      "RangeIndex: 2019501 entries, 0 to 2019500\n",
      "Data columns (total 12 columns):\n",
      " #   Column                  Dtype  \n",
      "---  ------                  -----  \n",
      " 0   order_id                int64  \n",
      " 1   user_id                 int64  \n",
      " 2   order_number            int64  \n",
      " 3   order_dow               int64  \n",
      " 4   order_hour_of_day       int64  \n",
      " 5   days_since_prior_order  float64\n",
      " 6   product_id              int64  \n",
      " 7   add_to_cart_order       int64  \n",
      " 8   reordered               int64  \n",
      " 9   department_id           int64  \n",
      " 10  department              object \n",
      " 11  product_name            object \n",
      "dtypes: float64(1), int64(9), object(2)\n",
      "memory usage: 184.9+ MB\n"
     ]
    }
   ],
   "source": [
    "df.info()"
   ]
  },
  {
   "cell_type": "code",
   "execution_count": 11,
   "id": "a9f7b986",
   "metadata": {
    "execution": {
     "iopub.execute_input": "2023-01-28T17:19:04.616014Z",
     "iopub.status.busy": "2023-01-28T17:19:04.615204Z",
     "iopub.status.idle": "2023-01-28T17:19:04.828540Z",
     "shell.execute_reply": "2023-01-28T17:19:04.827214Z"
    },
    "papermill": {
     "duration": 0.231664,
     "end_time": "2023-01-28T17:19:04.831711",
     "exception": false,
     "start_time": "2023-01-28T17:19:04.600047",
     "status": "completed"
    },
    "scrolled": true,
    "tags": []
   },
   "outputs": [
    {
     "data": {
      "text/plain": [
       "order_id                       0\n",
       "user_id                        0\n",
       "order_number                   0\n",
       "order_dow                      0\n",
       "order_hour_of_day              0\n",
       "days_since_prior_order    124342\n",
       "product_id                     0\n",
       "add_to_cart_order              0\n",
       "reordered                      0\n",
       "department_id                  0\n",
       "department                     0\n",
       "product_name                   0\n",
       "dtype: int64"
      ]
     },
     "execution_count": 11,
     "metadata": {},
     "output_type": "execute_result"
    }
   ],
   "source": [
    "df.isnull().sum()"
   ]
  },
  {
   "cell_type": "markdown",
   "id": "de3a0517",
   "metadata": {
    "papermill": {
     "duration": 0.014625,
     "end_time": "2023-01-28T17:19:04.860908",
     "exception": false,
     "start_time": "2023-01-28T17:19:04.846283",
     "status": "completed"
    },
    "tags": []
   },
   "source": [
    "### Conclusion:\n",
    "\n",
    "### We have 12,434 null values in days since prior order column which is 6.15% of the dataset."
   ]
  },
  {
   "cell_type": "code",
   "execution_count": 12,
   "id": "be3428f7",
   "metadata": {
    "scrolled": false
   },
   "outputs": [
    {
     "data": {
      "text/plain": [
       "array([nan,  3.,  6.,  7., 30., 20.,  4.,  8., 15., 10., 28.,  9., 12.,\n",
       "       11.,  2., 25., 13., 29., 14., 21.,  5.,  1., 18.,  0., 19., 17.,\n",
       "       22., 26., 24., 16., 23., 27.])"
      ]
     },
     "execution_count": 12,
     "metadata": {},
     "output_type": "execute_result"
    }
   ],
   "source": [
    "df['days_since_prior_order'].unique()"
   ]
  },
  {
   "cell_type": "code",
   "execution_count": 13,
   "id": "a0dff05b",
   "metadata": {
    "scrolled": true
   },
   "outputs": [
    {
     "data": {
      "text/plain": [
       "(11.386034628229083, 8.0)"
      ]
     },
     "execution_count": 13,
     "metadata": {},
     "output_type": "execute_result"
    }
   ],
   "source": [
    "#Checking null column's mean & median\n",
    "\n",
    "df['days_since_prior_order'].mean(), df['days_since_prior_order'].median()"
   ]
  },
  {
   "cell_type": "code",
   "execution_count": 14,
   "id": "f9a75e79",
   "metadata": {
    "scrolled": true
   },
   "outputs": [
    {
     "data": {
      "text/plain": [
       "949776.0"
      ]
     },
     "execution_count": 14,
     "metadata": {},
     "output_type": "execute_result"
    }
   ],
   "source": [
    "filter_ = df['days_since_prior_order'].where(df['days_since_prior_order']==8.).sum()\n",
    "filter_"
   ]
  },
  {
   "cell_type": "markdown",
   "id": "91a0a761",
   "metadata": {},
   "source": [
    "### We have 949,776 records with 8.0 value, which is 47% of the total records, which increases the outliers and biases if used to fill null values."
   ]
  },
  {
   "cell_type": "code",
   "execution_count": 15,
   "id": "1a22ebc6",
   "metadata": {
    "scrolled": true
   },
   "outputs": [
    {
     "data": {
      "text/plain": [
       "566236.0"
      ]
     },
     "execution_count": 15,
     "metadata": {},
     "output_type": "execute_result"
    }
   ],
   "source": [
    "filter_ = df['days_since_prior_order'].where(df['days_since_prior_order']==11.).sum()\n",
    "filter_"
   ]
  },
  {
   "cell_type": "markdown",
   "id": "433de1d3",
   "metadata": {},
   "source": [
    "### Same with mean = 11, we have 566,236 rows with this value, which is 28% of the dataset. So we'll fill nans with 0 instead."
   ]
  },
  {
   "cell_type": "code",
   "execution_count": 16,
   "id": "917868c1",
   "metadata": {},
   "outputs": [],
   "source": [
    "df.fillna(0, inplace=True)"
   ]
  },
  {
   "cell_type": "markdown",
   "id": "bd09e1df",
   "metadata": {},
   "source": [
    "### Checking our changes are saved"
   ]
  },
  {
   "cell_type": "code",
   "execution_count": 17,
   "id": "1694dc8c",
   "metadata": {
    "execution": {
     "iopub.execute_input": "2023-01-28T17:19:04.891346Z",
     "iopub.status.busy": "2023-01-28T17:19:04.890895Z",
     "iopub.status.idle": "2023-01-28T17:19:04.919642Z",
     "shell.execute_reply": "2023-01-28T17:19:04.918590Z"
    },
    "papermill": {
     "duration": 0.047124,
     "end_time": "2023-01-28T17:19:04.922162",
     "exception": false,
     "start_time": "2023-01-28T17:19:04.875038",
     "status": "completed"
    },
    "scrolled": true,
    "tags": []
   },
   "outputs": [
    {
     "data": {
      "text/plain": [
       "array([ 0.,  3.,  6.,  7., 30., 20.,  4.,  8., 15., 10., 28.,  9., 12.,\n",
       "       11.,  2., 25., 13., 29., 14., 21.,  5.,  1., 18., 19., 17., 22.,\n",
       "       26., 24., 16., 23., 27.])"
      ]
     },
     "execution_count": 17,
     "metadata": {},
     "output_type": "execute_result"
    }
   ],
   "source": [
    "df['days_since_prior_order'].unique()"
   ]
  },
  {
   "cell_type": "code",
   "execution_count": 18,
   "id": "1b183521",
   "metadata": {
    "execution": {
     "iopub.execute_input": "2023-01-28T17:19:04.995253Z",
     "iopub.status.busy": "2023-01-28T17:19:04.994831Z",
     "iopub.status.idle": "2023-01-28T17:19:05.211540Z",
     "shell.execute_reply": "2023-01-28T17:19:05.210379Z"
    },
    "papermill": {
     "duration": 0.235437,
     "end_time": "2023-01-28T17:19:05.214191",
     "exception": false,
     "start_time": "2023-01-28T17:19:04.978754",
     "status": "completed"
    },
    "scrolled": false,
    "tags": []
   },
   "outputs": [
    {
     "data": {
      "text/plain": [
       "order_id                  0\n",
       "user_id                   0\n",
       "order_number              0\n",
       "order_dow                 0\n",
       "order_hour_of_day         0\n",
       "days_since_prior_order    0\n",
       "product_id                0\n",
       "add_to_cart_order         0\n",
       "reordered                 0\n",
       "department_id             0\n",
       "department                0\n",
       "product_name              0\n",
       "dtype: int64"
      ]
     },
     "execution_count": 18,
     "metadata": {},
     "output_type": "execute_result"
    }
   ],
   "source": [
    "df.isnull().sum()"
   ]
  },
  {
   "cell_type": "code",
   "execution_count": 19,
   "id": "a02c4294",
   "metadata": {
    "scrolled": false
   },
   "outputs": [
    {
     "data": {
      "text/plain": [
       "fresh fruits                  226039\n",
       "fresh vegetables              212611\n",
       "packaged vegetables fruits    109596\n",
       "yogurt                         90751\n",
       "packaged cheese                61502\n",
       "                               ...  \n",
       "kitchen supplies                 561\n",
       "baby bath body care              515\n",
       "baby accessories                 504\n",
       "beauty                           387\n",
       "frozen juice                     279\n",
       "Name: product_name, Length: 134, dtype: int64"
      ]
     },
     "execution_count": 19,
     "metadata": {},
     "output_type": "execute_result"
    }
   ],
   "source": [
    "df['product_name'].value_counts()"
   ]
  },
  {
   "cell_type": "code",
   "execution_count": 20,
   "id": "8a1fd29a",
   "metadata": {
    "scrolled": true
   },
   "outputs": [
    {
     "data": {
      "text/plain": [
       "24     226039\n",
       "83     212611\n",
       "123    109596\n",
       "120     90751\n",
       "21      61502\n",
       "        ...  \n",
       "10        561\n",
       "102       515\n",
       "82        504\n",
       "132       387\n",
       "113       279\n",
       "Name: product_id, Length: 134, dtype: int64"
      ]
     },
     "execution_count": 20,
     "metadata": {},
     "output_type": "execute_result"
    }
   ],
   "source": [
    "df['product_id'].value_counts()"
   ]
  },
  {
   "cell_type": "markdown",
   "id": "d2dfb5cb",
   "metadata": {},
   "source": [
    "### Conclusion:\n",
    "### Product name & ID are equivalent, hence, we can later drop product name"
   ]
  },
  {
   "cell_type": "code",
   "execution_count": 40,
   "id": "566e9cc3",
   "metadata": {},
   "outputs": [
    {
     "data": {
      "text/plain": [
       "array([2, 3, 0, 1, 6, 5, 4])"
      ]
     },
     "execution_count": 40,
     "metadata": {},
     "output_type": "execute_result"
    }
   ],
   "source": [
    "df['order_dow'].unique()"
   ]
  },
  {
   "cell_type": "code",
   "execution_count": 42,
   "id": "f274d6ed",
   "metadata": {},
   "outputs": [],
   "source": [
    "days = {0.0:'Mon',1.0:'Tues',2.0:'Weds',3.0:'Thurs',4.0:'Fri',5.0:'Sat',6.0:'Sun'}\n",
    "df[\"day_of_order\"] = df[\"order_dow\"].apply(lambda x : days[x])"
   ]
  },
  {
   "cell_type": "code",
   "execution_count": 44,
   "id": "0e4a920f",
   "metadata": {
    "scrolled": true
   },
   "outputs": [
    {
     "data": {
      "text/plain": [
       "array(['Weds', 'Thurs', 'Mon', 'Tues', 'Sun', 'Sat', 'Fri'], dtype=object)"
      ]
     },
     "execution_count": 44,
     "metadata": {},
     "output_type": "execute_result"
    }
   ],
   "source": [
    "df['day_of_order'].unique()"
   ]
  },
  {
   "cell_type": "markdown",
   "id": "d320d416",
   "metadata": {},
   "source": [
    "## Checking how many  departments exits"
   ]
  },
  {
   "cell_type": "code",
   "execution_count": 22,
   "id": "c629a008",
   "metadata": {
    "scrolled": true
   },
   "outputs": [
    {
     "name": "stdout",
     "output_type": "stream",
     "text": [
      "['pantry', 'dairy eggs', 'produce', 'canned goods', 'meat seafood', 'frozen', 'bakery', 'beverages', 'breakfast', 'snacks', 'international', 'household', 'personal care', 'babies', 'deli', 'dry goods pasta', 'missing', 'alcohol', 'pets', 'bulk', 'other'] \n",
      "\n",
      "Number of departments =  21\n"
     ]
    }
   ],
   "source": [
    "print(list(df['department'].unique()), '\\n')\n",
    "print('Number of departments = ', df['department'].nunique())"
   ]
  },
  {
   "cell_type": "markdown",
   "id": "c8a00b9c",
   "metadata": {},
   "source": [
    "## Checking how many  products exits"
   ]
  },
  {
   "cell_type": "code",
   "execution_count": 23,
   "id": "1dca510e",
   "metadata": {
    "scrolled": true
   },
   "outputs": [
    {
     "name": "stdout",
     "output_type": "stream",
     "text": [
      "Number of unique products =  134\n"
     ]
    }
   ],
   "source": [
    "print('Number of unique products = ', df['product_name'].nunique())"
   ]
  },
  {
   "cell_type": "markdown",
   "id": "eb84c54c",
   "metadata": {},
   "source": [
    "## Checking how many users exits"
   ]
  },
  {
   "cell_type": "code",
   "execution_count": 24,
   "id": "79b4d969",
   "metadata": {
    "scrolled": true
   },
   "outputs": [
    {
     "name": "stdout",
     "output_type": "stream",
     "text": [
      "Number of users =  105273\n"
     ]
    }
   ],
   "source": [
    "print('Number of users = ', df['user_id'].nunique()) "
   ]
  },
  {
   "cell_type": "markdown",
   "id": "54dc1666",
   "metadata": {},
   "source": [
    "## What is the average number of items placed in the basket?\n"
   ]
  },
  {
   "cell_type": "code",
   "execution_count": 25,
   "id": "6c76b174",
   "metadata": {},
   "outputs": [
    {
     "name": "stdout",
     "output_type": "stream",
     "text": [
      "8 Items\n"
     ]
    }
   ],
   "source": [
    "print(int(df['add_to_cart_order'].mean()), 'Items')\n"
   ]
  },
  {
   "cell_type": "markdown",
   "id": "90a87120",
   "metadata": {},
   "source": [
    "## How long are customers waiting before ordering again on average?\n"
   ]
  },
  {
   "cell_type": "code",
   "execution_count": 26,
   "id": "6d53afdb",
   "metadata": {
    "scrolled": false
   },
   "outputs": [
    {
     "name": "stdout",
     "output_type": "stream",
     "text": [
      "10 Days\n"
     ]
    }
   ],
   "source": [
    "print(int(df['days_since_prior_order'].mean()), 'Days')"
   ]
  },
  {
   "cell_type": "markdown",
   "id": "5b4e6e66",
   "metadata": {},
   "source": [
    "## Visualizing the Order Day Of Week Column:"
   ]
  },
  {
   "cell_type": "code",
   "execution_count": 90,
   "id": "f859294f",
   "metadata": {},
   "outputs": [],
   "source": [
    "def make_pie(column):\n",
    "    values = df[column].value_counts()\n",
    "    colors = ['#4F6272', '#B7C3F3', '#DD7596', '#8EB897']\n",
    "    plt.pie(values.values,labels=['Mon', 'Tue', 'Wed', 'Thur', 'Fri','Sat','Sun']\n",
    "            ,colors = colors, radius=1.5,autopct='%1.2f%%')"
   ]
  },
  {
   "cell_type": "code",
   "execution_count": 91,
   "id": "d3c5b50a",
   "metadata": {},
   "outputs": [
    {
     "data": {
      "image/png": "[encoded data removed]",
      "text/plain": [
       "<Figure size 640x480 with 1 Axes>"
      ]
     },
     "metadata": {},
     "output_type": "display_data"
    }
   ],
   "source": [
    "make_pie('order_dow')\n"
   ]
  },
  {
   "cell_type": "markdown",
   "id": "6284505a",
   "metadata": {},
   "source": [
    "## What time of day is busiest?"
   ]
  },
  {
   "cell_type": "code",
   "execution_count": 27,
   "id": "a59e3934",
   "metadata": {
    "scrolled": false
   },
   "outputs": [
    {
     "data": {
      "image/png": "[encoded data removed]",
      "text/plain": [
       "<Figure size 900x600 with 1 Axes>"
      ]
     },
     "metadata": {},
     "output_type": "display_data"
    }
   ],
   "source": [
    "df['order_hour_of_day'].value_counts()\n",
    "\n",
    "plt.figure(figsize = (9,6))\n",
    "sns.set_style(\"ticks\")\n",
    "sns.countplot(data=df, x=df['order_hour_of_day'], palette = 'flare', alpha=0.6)\n",
    "plt.title(\"Busiest times of the day\", fontsize=14)\n",
    "plt.xlabel(\"Hour of the day\", fontsize=12)\n",
    "plt.ylabel(\"Number of orders\", fontsize=12)\n",
    "plt.show()"
   ]
  },
  {
   "cell_type": "markdown",
   "id": "7560480e",
   "metadata": {},
   "source": [
    "## People are most likely to order from 8 AM to 10 PM"
   ]
  },
  {
   "cell_type": "markdown",
   "id": "fffccfcc",
   "metadata": {},
   "source": [
    "# Which products are reordered most?"
   ]
  },
  {
   "cell_type": "code",
   "execution_count": 28,
   "id": "1e47028a",
   "metadata": {},
   "outputs": [
    {
     "data": {
      "text/html": [
       "<div>\n",
       "<style scoped>\n",
       "    .dataframe tbody tr th:only-of-type {\n",
       "        vertical-align: middle;\n",
       "    }\n",
       "\n",
       "    .dataframe tbody tr th {\n",
       "        vertical-align: top;\n",
       "    }\n",
       "\n",
       "    .dataframe thead th {\n",
       "        text-align: right;\n",
       "    }\n",
       "</style>\n",
       "<table border=\"1\" class=\"dataframe\">\n",
       "  <thead>\n",
       "    <tr style=\"text-align: right;\">\n",
       "      <th></th>\n",
       "      <th>department</th>\n",
       "      <th>reordered</th>\n",
       "    </tr>\n",
       "  </thead>\n",
       "  <tbody>\n",
       "    <tr>\n",
       "      <th>19</th>\n",
       "      <td>produce</td>\n",
       "      <td>382425</td>\n",
       "    </tr>\n",
       "    <tr>\n",
       "      <th>7</th>\n",
       "      <td>dairy eggs</td>\n",
       "      <td>225798</td>\n",
       "    </tr>\n",
       "    <tr>\n",
       "      <th>3</th>\n",
       "      <td>beverages</td>\n",
       "      <td>110117</td>\n",
       "    </tr>\n",
       "    <tr>\n",
       "      <th>20</th>\n",
       "      <td>snacks</td>\n",
       "      <td>103784</td>\n",
       "    </tr>\n",
       "    <tr>\n",
       "      <th>10</th>\n",
       "      <td>frozen</td>\n",
       "      <td>75135</td>\n",
       "    </tr>\n",
       "  </tbody>\n",
       "</table>\n",
       "</div>"
      ],
      "text/plain": [
       "    department  reordered\n",
       "19     produce     382425\n",
       "7   dairy eggs     225798\n",
       "3    beverages     110117\n",
       "20      snacks     103784\n",
       "10      frozen      75135"
      ]
     },
     "execution_count": 28,
     "metadata": {},
     "output_type": "execute_result"
    }
   ],
   "source": [
    "product_reordered_df = df.groupby('department')['reordered'].sum().reset_index().sort_values(by='reordered', ascending=False)\n",
    "product_reordered_df.head()"
   ]
  },
  {
   "cell_type": "code",
   "execution_count": 29,
   "id": "aa3b471a",
   "metadata": {},
   "outputs": [
    {
     "data": {
      "image/png": "[encoded data removed]",
      "text/plain": [
       "<Figure size 1000x700 with 1 Axes>"
      ]
     },
     "metadata": {},
     "output_type": "display_data"
    }
   ],
   "source": [
    "plt.figure(figsize = (10,7))\n",
    "sns.set_style(\"ticks\")\n",
    "sns.barplot(data=product_reordered_df.head(5), x=\"reordered\", y=\"department\", palette = 'flare', alpha=0.6)\n",
    "plt.title(\"Top 5 most reordered products\", fontsize=14)\n",
    "plt.xlabel(\"Number of reorders\", fontsize=12)\n",
    "plt.ylabel(\"Product name\", fontsize=12)\n",
    "plt.show()"
   ]
  },
  {
   "cell_type": "markdown",
   "id": "b86716c0",
   "metadata": {
    "papermill": {
     "duration": 0.018929,
     "end_time": "2023-01-28T17:19:13.178793",
     "exception": false,
     "start_time": "2023-01-28T17:19:13.159864",
     "status": "completed"
    },
    "tags": []
   },
   "source": [
    "### Conclusion:\n",
    "\n",
    "### From the above table we can clearly observe that produce, dairy products, beverages and snacks are the top categories the customers are most interested in purchasing"
   ]
  },
  {
   "cell_type": "markdown",
   "id": "c96ab3ed",
   "metadata": {},
   "source": [
    "## Most popular products:"
   ]
  },
  {
   "cell_type": "code",
   "execution_count": 30,
   "id": "58e59ff8",
   "metadata": {},
   "outputs": [
    {
     "data": {
      "text/html": [
       "<div>\n",
       "<style scoped>\n",
       "    .dataframe tbody tr th:only-of-type {\n",
       "        vertical-align: middle;\n",
       "    }\n",
       "\n",
       "    .dataframe tbody tr th {\n",
       "        vertical-align: top;\n",
       "    }\n",
       "\n",
       "    .dataframe thead th {\n",
       "        text-align: right;\n",
       "    }\n",
       "</style>\n",
       "<table border=\"1\" class=\"dataframe\">\n",
       "  <thead>\n",
       "    <tr style=\"text-align: right;\">\n",
       "      <th></th>\n",
       "      <th>Product</th>\n",
       "      <th>Order_Count</th>\n",
       "    </tr>\n",
       "  </thead>\n",
       "  <tbody>\n",
       "    <tr>\n",
       "      <th>0</th>\n",
       "      <td>fresh fruits</td>\n",
       "      <td>226039</td>\n",
       "    </tr>\n",
       "    <tr>\n",
       "      <th>1</th>\n",
       "      <td>fresh vegetables</td>\n",
       "      <td>212611</td>\n",
       "    </tr>\n",
       "    <tr>\n",
       "      <th>2</th>\n",
       "      <td>packaged vegetables fruits</td>\n",
       "      <td>109596</td>\n",
       "    </tr>\n",
       "    <tr>\n",
       "      <th>3</th>\n",
       "      <td>yogurt</td>\n",
       "      <td>90751</td>\n",
       "    </tr>\n",
       "    <tr>\n",
       "      <th>4</th>\n",
       "      <td>packaged cheese</td>\n",
       "      <td>61502</td>\n",
       "    </tr>\n",
       "    <tr>\n",
       "      <th>...</th>\n",
       "      <td>...</td>\n",
       "      <td>...</td>\n",
       "    </tr>\n",
       "    <tr>\n",
       "      <th>129</th>\n",
       "      <td>kitchen supplies</td>\n",
       "      <td>561</td>\n",
       "    </tr>\n",
       "    <tr>\n",
       "      <th>130</th>\n",
       "      <td>baby bath body care</td>\n",
       "      <td>515</td>\n",
       "    </tr>\n",
       "    <tr>\n",
       "      <th>131</th>\n",
       "      <td>baby accessories</td>\n",
       "      <td>504</td>\n",
       "    </tr>\n",
       "    <tr>\n",
       "      <th>132</th>\n",
       "      <td>beauty</td>\n",
       "      <td>387</td>\n",
       "    </tr>\n",
       "    <tr>\n",
       "      <th>133</th>\n",
       "      <td>frozen juice</td>\n",
       "      <td>279</td>\n",
       "    </tr>\n",
       "  </tbody>\n",
       "</table>\n",
       "<p>134 rows × 2 columns</p>\n",
       "</div>"
      ],
      "text/plain": [
       "                        Product  Order_Count\n",
       "0                  fresh fruits       226039\n",
       "1              fresh vegetables       212611\n",
       "2    packaged vegetables fruits       109596\n",
       "3                        yogurt        90751\n",
       "4               packaged cheese        61502\n",
       "..                          ...          ...\n",
       "129            kitchen supplies          561\n",
       "130         baby bath body care          515\n",
       "131            baby accessories          504\n",
       "132                      beauty          387\n",
       "133                frozen juice          279\n",
       "\n",
       "[134 rows x 2 columns]"
      ]
     },
     "execution_count": 30,
     "metadata": {},
     "output_type": "execute_result"
    }
   ],
   "source": [
    "products = df['product_name'].value_counts()\n",
    "\n",
    "products_df = pd.DataFrame(products).reset_index()\n",
    "\n",
    "products_df.columns = ['Product', 'Order_Count']\n",
    "\n",
    "top_products = products_df.sort_values(by='Order_Count', ascending=False).head()\n",
    "products_df"
   ]
  },
  {
   "cell_type": "code",
   "execution_count": 31,
   "id": "1aaf9f45",
   "metadata": {},
   "outputs": [
    {
     "data": {
      "image/png": "[encoded data removed]",
      "text/plain": [
       "<Figure size 1000x700 with 1 Axes>"
      ]
     },
     "metadata": {},
     "output_type": "display_data"
    }
   ],
   "source": [
    "plt.figure(figsize = (10,7))\n",
    "sns.set_style(\"ticks\")\n",
    "sns.barplot(data=top_products, x=\"Order_Count\", y=\"Product\", palette = 'flare', alpha=0.6)\n",
    "plt.title(\"Top 5 most popular products\", fontsize=14)\n",
    "plt.xlabel(\"Number of orders\", fontsize=12)\n",
    "plt.ylabel(\"Product name\", fontsize=12)\n",
    "plt.show()"
   ]
  },
  {
   "cell_type": "markdown",
   "id": "c8603182",
   "metadata": {
    "papermill": {
     "duration": 0.021118,
     "end_time": "2023-01-28T17:20:11.971797",
     "exception": false,
     "start_time": "2023-01-28T17:20:11.950679",
     "status": "completed"
    },
    "tags": []
   },
   "source": [
    "\n",
    "#### PCA:\n",
    "\n",
    "Principal Component analysis - PCA algorithm,is a dimensionality reduction technique which reduces the dimensions of a dataset by projecting a d-dimensional features space onto a k-dimensional subspace, where k is less than d.\n",
    "\n",
    "The PCA creates new features from the existing ones by projecting all dependent features onto a new feature which is independent. \n",
    "\n",
    "The resulting features are guaranteed to be uncorrelated."
   ]
  },
  {
   "cell_type": "code",
   "execution_count": 32,
   "id": "d77ec942",
   "metadata": {},
   "outputs": [],
   "source": [
    "# Remove unwanted columns\n",
    "df = df.drop(['order_id', 'user_id', 'order_number', 'department_id', 'product_id'], axis = 1)\n"
   ]
  },
  {
   "cell_type": "code",
   "execution_count": 33,
   "id": "c74b8ac9",
   "metadata": {
    "scrolled": true
   },
   "outputs": [
    {
     "data": {
      "text/html": [
       "<div>\n",
       "<style scoped>\n",
       "    .dataframe tbody tr th:only-of-type {\n",
       "        vertical-align: middle;\n",
       "    }\n",
       "\n",
       "    .dataframe tbody tr th {\n",
       "        vertical-align: top;\n",
       "    }\n",
       "\n",
       "    .dataframe thead th {\n",
       "        text-align: right;\n",
       "    }\n",
       "</style>\n",
       "<table border=\"1\" class=\"dataframe\">\n",
       "  <thead>\n",
       "    <tr style=\"text-align: right;\">\n",
       "      <th></th>\n",
       "      <th>order_dow</th>\n",
       "      <th>order_hour_of_day</th>\n",
       "      <th>days_since_prior_order</th>\n",
       "      <th>add_to_cart_order</th>\n",
       "      <th>reordered</th>\n",
       "      <th>department</th>\n",
       "      <th>product_name</th>\n",
       "    </tr>\n",
       "  </thead>\n",
       "  <tbody>\n",
       "    <tr>\n",
       "      <th>0</th>\n",
       "      <td>2</td>\n",
       "      <td>18</td>\n",
       "      <td>0.0</td>\n",
       "      <td>1</td>\n",
       "      <td>0</td>\n",
       "      <td>pantry</td>\n",
       "      <td>baking ingredients</td>\n",
       "    </tr>\n",
       "    <tr>\n",
       "      <th>1</th>\n",
       "      <td>2</td>\n",
       "      <td>18</td>\n",
       "      <td>0.0</td>\n",
       "      <td>2</td>\n",
       "      <td>0</td>\n",
       "      <td>dairy eggs</td>\n",
       "      <td>soy lactosefree</td>\n",
       "    </tr>\n",
       "    <tr>\n",
       "      <th>2</th>\n",
       "      <td>2</td>\n",
       "      <td>18</td>\n",
       "      <td>0.0</td>\n",
       "      <td>3</td>\n",
       "      <td>0</td>\n",
       "      <td>dairy eggs</td>\n",
       "      <td>butter</td>\n",
       "    </tr>\n",
       "    <tr>\n",
       "      <th>3</th>\n",
       "      <td>2</td>\n",
       "      <td>18</td>\n",
       "      <td>0.0</td>\n",
       "      <td>4</td>\n",
       "      <td>0</td>\n",
       "      <td>produce</td>\n",
       "      <td>fresh vegetables</td>\n",
       "    </tr>\n",
       "    <tr>\n",
       "      <th>4</th>\n",
       "      <td>2</td>\n",
       "      <td>18</td>\n",
       "      <td>0.0</td>\n",
       "      <td>5</td>\n",
       "      <td>0</td>\n",
       "      <td>produce</td>\n",
       "      <td>fresh vegetables</td>\n",
       "    </tr>\n",
       "  </tbody>\n",
       "</table>\n",
       "</div>"
      ],
      "text/plain": [
       "   order_dow  order_hour_of_day  days_since_prior_order  add_to_cart_order  \\\n",
       "0          2                 18                     0.0                  1   \n",
       "1          2                 18                     0.0                  2   \n",
       "2          2                 18                     0.0                  3   \n",
       "3          2                 18                     0.0                  4   \n",
       "4          2                 18                     0.0                  5   \n",
       "\n",
       "   reordered  department        product_name  \n",
       "0          0      pantry  baking ingredients  \n",
       "1          0  dairy eggs     soy lactosefree  \n",
       "2          0  dairy eggs              butter  \n",
       "3          0     produce    fresh vegetables  \n",
       "4          0     produce    fresh vegetables  "
      ]
     },
     "execution_count": 33,
     "metadata": {},
     "output_type": "execute_result"
    }
   ],
   "source": [
    "df.head()"
   ]
  },
  {
   "cell_type": "code",
   "execution_count": 34,
   "id": "d4d5b632",
   "metadata": {},
   "outputs": [],
   "source": [
    "# Scaling the data\n",
    "\n",
    "scaler = StandardScaler()\n",
    "\n",
    "scaled_data = scaler.fit_transform(df.iloc[:, :-2])\n",
    "\n"
   ]
  },
  {
   "cell_type": "code",
   "execution_count": 35,
   "id": "75e2e55f",
   "metadata": {},
   "outputs": [
    {
     "data": {
      "text/html": [
       "<div>\n",
       "<style scoped>\n",
       "    .dataframe tbody tr th:only-of-type {\n",
       "        vertical-align: middle;\n",
       "    }\n",
       "\n",
       "    .dataframe tbody tr th {\n",
       "        vertical-align: top;\n",
       "    }\n",
       "\n",
       "    .dataframe thead th {\n",
       "        text-align: right;\n",
       "    }\n",
       "</style>\n",
       "<table border=\"1\" class=\"dataframe\">\n",
       "  <thead>\n",
       "    <tr style=\"text-align: right;\">\n",
       "      <th></th>\n",
       "      <th>PC1</th>\n",
       "      <th>PC2</th>\n",
       "      <th>PC3</th>\n",
       "    </tr>\n",
       "  </thead>\n",
       "  <tbody>\n",
       "    <tr>\n",
       "      <th>0</th>\n",
       "      <td>-0.278378</td>\n",
       "      <td>-0.999085</td>\n",
       "      <td>-0.730310</td>\n",
       "    </tr>\n",
       "    <tr>\n",
       "      <th>1</th>\n",
       "      <td>-0.184500</td>\n",
       "      <td>-1.003332</td>\n",
       "      <td>-0.703474</td>\n",
       "    </tr>\n",
       "    <tr>\n",
       "      <th>2</th>\n",
       "      <td>-0.090622</td>\n",
       "      <td>-1.007578</td>\n",
       "      <td>-0.676637</td>\n",
       "    </tr>\n",
       "    <tr>\n",
       "      <th>3</th>\n",
       "      <td>0.003255</td>\n",
       "      <td>-1.011824</td>\n",
       "      <td>-0.649800</td>\n",
       "    </tr>\n",
       "    <tr>\n",
       "      <th>4</th>\n",
       "      <td>0.097133</td>\n",
       "      <td>-1.016071</td>\n",
       "      <td>-0.622963</td>\n",
       "    </tr>\n",
       "  </tbody>\n",
       "</table>\n",
       "</div>"
      ],
      "text/plain": [
       "        PC1       PC2       PC3\n",
       "0 -0.278378 -0.999085 -0.730310\n",
       "1 -0.184500 -1.003332 -0.703474\n",
       "2 -0.090622 -1.007578 -0.676637\n",
       "3  0.003255 -1.011824 -0.649800\n",
       "4  0.097133 -1.016071 -0.622963"
      ]
     },
     "execution_count": 35,
     "metadata": {},
     "output_type": "execute_result"
    }
   ],
   "source": [
    "pca_obj = PCA(n_components=3)\n",
    "pca = pca_obj.fit_transform(scaled_data)\n",
    "\n",
    "pca_df = pd.DataFrame(data=pca,\n",
    "                        columns=['PC1', 'PC2', 'PC3'])\n",
    "pca_df.head()"
   ]
  },
  {
   "cell_type": "code",
   "execution_count": 36,
   "id": "c4c32857",
   "metadata": {
    "scrolled": false
   },
   "outputs": [
    {
     "data": {
      "image/png": "[encoded data removed]",
      "text/plain": [
       "<Figure size 800x500 with 2 Axes>"
      ]
     },
     "metadata": {},
     "output_type": "display_data"
    }
   ],
   "source": [
    "figure = plt.figure(figsize=(8, 5))\n",
    "\n",
    "sns.heatmap(pd.DataFrame(pca_obj.components_).transpose(),\n",
    "            annot=True,\n",
    "            xticklabels=['PC1', 'PC2', 'PC3'],\n",
    "            yticklabels=df.iloc[:,:-2].columns,\n",
    "            cmap='coolwarm')\n",
    "\n",
    "plt.title('Feature Importance for variance of each Principal Component', fontsize=15)\n",
    "plt.show()"
   ]
  },
  {
   "cell_type": "markdown",
   "id": "c589d4fa",
   "metadata": {},
   "source": [
    "* PC1 are mostly customers that reorder and order a large number of items at each order\n",
    "* PC2 are influenced mostly by the day of the week\n",
    "* PC3 are influenced by the hour of the day"
   ]
  }
 ],
 "metadata": {
  "kernelspec": {
   "display_name": "Python 3 (ipykernel)",
   "language": "python",
   "name": "python3"
  },
  "language_info": {
   "codemirror_mode": {
    "name": "ipython",
    "version": 3
   },
   "file_extension": ".py",
   "mimetype": "text/x-python",
   "name": "python",
   "nbconvert_exporter": "python",
   "pygments_lexer": "ipython3",
   "version": "3.9.5"
  },
  "papermill": {
   "default_parameters": {},
   "duration": 128.530037,
   "end_time": "2023-01-28T17:20:56.992361",
   "environment_variables": {},
   "exception": null,
   "input_path": "__notebook__.ipynb",
   "output_path": "__notebook__.ipynb",
   "parameters": {},
   "start_time": "2023-01-28T17:18:48.462324",
   "version": "2.3.4"
  }
 },
 "nbformat": 4,
 "nbformat_minor": 5
}
